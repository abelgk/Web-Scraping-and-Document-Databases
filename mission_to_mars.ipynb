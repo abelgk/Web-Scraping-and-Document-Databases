{
 "cells": [
  {
   "cell_type": "code",
   "execution_count": 1,
   "metadata": {},
   "outputs": [],
   "source": [
    "# Dependencies\n",
    "import pymongo\n",
    "from splinter import Browser\n",
    "from splinter.exceptions import ElementDoesNotExist\n",
    "from bs4 import BeautifulSoup\n",
    "import requests\n",
    "import pandas as pd"
   ]
  },
  {
   "cell_type": "code",
   "execution_count": 2,
   "metadata": {},
   "outputs": [],
   "source": [
    "executable_path = {'executable_path': 'chromedriver.exe'}\n",
    "browser = Browser('chrome',**executable_path, headless=False)"
   ]
  },
  {
   "cell_type": "code",
   "execution_count": 3,
   "metadata": {},
   "outputs": [],
   "source": [
    "# URL of page to be scraped\n",
    "url = 'https://mars.nasa.gov/news/'\n",
    "browser.visit(url)\n",
    "html = browser.html\n",
    "\n",
    "# Create BeautifulSoup object; parse with 'html'\n",
    "soup = BeautifulSoup(html, 'html.parser')\n",
    "# soup"
   ]
  },
  {
   "cell_type": "code",
   "execution_count": 5,
   "metadata": {},
   "outputs": [
    {
     "name": "stdout",
     "output_type": "stream",
     "text": [
      "News Title:['Rover Team Beaming New Commands to Opportunity on Mars', \"NASA's Opportunity Rover Logs 15 Years on Mars\", \"NASA's InSight Places First Instrument on Mars\", 'InSight Engineers Have Made a Martian Rock Garden', 'Mars InSight Lander Seen in First Images from Space', \"NASA's InSight Takes Its First Selfie\", \"NASA InSight Lander 'Hears' Martian Winds\", \"NASA's Mars InSight Flexes Its Arm\", \"Mars New Home 'a Large Sandbox'\", 'NASA Hears MarCO CubeSats Loud and Clear from Mars', 'InSight Is Catching Rays on Mars', 'NASA InSight Lander Arrives on Martian Surface', 'Landing Day for InSight', 'NASA InSight Landing on Mars: Milestones', 'NASA InSight Team on Course for Mars Touchdown', 'What Two Planetary Siblings Can Teach Us About Life', 'NASA Announces Landing Site for Mars 2020 Rover', 'NASA to Host Media Call on Next Mars Landing Site', 'How NASA Will Know When InSight Touches Down', 'NASA Brings Mars Landing to Viewers Everywhere', 'Curiosity on the Move Again', 'The Mars InSight Landing Site Is Just Plain Perfect', \"Five Things to Know About InSight's Mars Landing\", 'NASA Launches a New Podcast to Mars', 'Update on Opportunity Rover Recovery Efforts', 'Third ASPIRE Test Confirms Mars 2020 Parachute a Go', 'NASA to Host Briefing on November Mars InSight Landing', \"NASA's InSight Will Study Mars While Standing Still\", \"NASA's First Image of Mars from a CubeSat\", \"The 'Claw Game' on Mars: NASA InSight Plays to Win\", 'Scientists to Debate Landing Site for Next Mars Rover', 'Mars Virtual Reality Software Wins NASA Award', 'Painting Cars for Mars', 'Opportunity Emerges in a Dusty Picture', 'NASA Seeking Partner in Contest to Name Next Mars Rover', \"NASA's MAVEN Selfie Marks Four Years in Orbit at Mars\", 'MarCO Makes Space for Small Explorers', 'Curiosity Surveys a Mystery Under Dusty Skies', \"NASA's InSight Has a Thermometer for Mars\", 'Digital Creators: Apply for NASA Mars Landing Event']\n",
      "====================\n",
      "News Article:['Engineers at JPL have begun transmitting a new set of commands to Opportunity in an attempt to compel the Mars rover to contact Earth.', 'The rover landed in a region of the Red Planet called Meridiani Planum 16 years ago today, on Jan. 24, 2004.', 'In deploying its first instrument onto the surface of Mars, the lander completes a major mission milestone.', \"Reconstructing Mars here on Earth lets them practice setting down the lander's science instruments.\", \"Look closely, and you can make out the lander's solar panels.\", 'Two new image mosaics detail the lander\\'s deck and \"workspace\" — the surface where it will eventually set down its science instruments.', 'Vibrations picked up by two spacecraft instruments have provided the first sounds of Martian wind.', \"Now unstowed, the spacecraft's robotic arm will point a camera located on its elbow and take images of the surroundings.\", \"With InSight safely on the surface of Mars, the mission team is busy learning more about the spacecraft's landing site.\", \"A pair of tiny, experimental spacecraft fulfilled their mission yesterday, relaying back near-real-time data during InSight's landing.\", 'The lander has sent data indicating its solar panels are open and receiving sunlight to power its surface operations.', 'The touchdown marks the eighth time NASA has successfully landed a spacecraft on Mars.', \"NASA's InSight spacecraft is on target for Mars landing at around noon PST today.\", \"On Nov. 26, NASA's InSight spacecraft will blaze through the Martian atmosphere and set a lander gently on the surface in less time than it takes to cook a hard-boiled egg.\", \"NASA's Mars InSight spacecraft is on track for a soft touchdown on the surface of the Red Planet on Nov. 26.\", \"In studying Mars, NASA's InSight will reveal what makes one planet more or less suitable for life than another.\", 'After a five-year search, NASA has chosen Jezero Crater as the landing site for its upcoming Mars 2020 rover mission.', 'NASA will host a media teleconference at 9 a.m. PST (noon EST) Monday, Nov. 19, to provide details about the Mars 2020 rover’s landing site on the Red Planet.', 'On Nov. 26, engineers will look for a combination of signals to determine whether the next spacecraft to Mars lands safely.', \"NASA's InSight lander is scheduled to touch down on the Red Planet at approximately noon PST  on Nov. 26, with a new suite of instruments to probe below the Martian surface.\", \"NASA's Mars Curiosity rover drove about 197 feet over the weekend to a site called Lake Orcadie, pushing its total odometry to over 12 miles.\", 'If the InSight landing zone were ice cream, it would be vanilla.', \"NASA engineers will be holding their breath when their spacecraft heads into Mars' atmosphere on Nov. 26.\", \"NASA's new eight-episode series 'On a Mission' follows the InSight spacecraft on its journey to Mars and details the extraordinary challenges of landing on the Red Planet.\", 'After a review of the progress of the listening campaign, NASA will continue its current strategy for attempting to make contact with the Opportunity rover for the foreseeable future.', 'The supersonic parachute that will handle the heaviest payload yet to the Red Planet – Mars 2020 rover – passes its final sounding rocket test with flying colors.', \"A briefing on NASA's upcoming InSight Mars landing will air on Wed. Oct. 31 at 1:30 p.m. EDT (10:30 a.m. PDT) on NASA TV, the agency's website and NASA InSight Facebook Page.\", \"The lander's unique science can teach us how planets are born.\", 'The image was produced by one of the twin briefcase-sized MarCO spacecraft, the first CubeSats to fly to deep space.', \"NASA's InSight lander will be the first mission to use a robotic arm to grasp instruments from the spacecraft and place them on the surface of another planet.\", \"Hundreds of scientists and Mars-exploration enthusiasts gather this week to present, discuss and deliberate the future landing site for NASA's next Red Planet.\", \"A mixed-reality software that allows scientists and engineers to virtually walk on Mars has received NASA's 2018 Software of the Year Award.\", \"What does NASA do to get a rover ready for Mars? JPL's paint shop does a thousand different paint jobs a year. And while every piece of spacecraft that comes through the shop is important, one headed for the Red Planet adds a little extra oomph.\", \"NASA still hasn't heard from the Opportunity rover, but at least the agency can see it again.\", 'NASA has a class assignment for corporations, nonprofits and educational organizations involved in science and space exploration: partner with the agency to inspire future engineers and scientists by sponsoring a contest to name the next rover to venture to the Red Planet.', 'NASA’s MAVEN spacecraft celebrates four years in Mars orbit with a selfie.', 'A pair of NASA CubeSats flying to Mars are opening a new frontier for small spacecraft.', \"NASA's Curiosity rover surveyed its surroundings on Mars, producing a 360-degree panorama of its current location on Vera Rubin Ridge.\", \"The mission's heat probe could reveal how the planet's towering volcanoes formed.\", \"Up to 30 multimedia participants will be selected for a special two-day event at JPL culminating in the InSight spacecraft's landing on Mars. Apply by Sept. 3.\"]\n"
     ]
    }
   ],
   "source": [
    "# Retrieve the parent divs for all articles\n",
    "results = soup.find_all('li', class_='slide')\n",
    "# Loop through results to retrieve article title and paragraph\n",
    "news_title = []\n",
    "news_p = []\n",
    "for result in results:\n",
    "    div = result.find('div',class_='content_title')\n",
    "    link = div.find('a')\n",
    "    news_title.append(link.text.strip())\n",
    "    paragraph = result.find('div',class_='article_teaser_body')\n",
    "    news_p.append(paragraph.text.strip())\n",
    "    \n",
    "print(f'News Title:{news_title}')\n",
    "print(\"====================\")\n",
    "print(f'News Article:{news_p}')\n",
    "\n"
   ]
  },
  {
   "cell_type": "code",
   "execution_count": 7,
   "metadata": {},
   "outputs": [],
   "source": [
    "# JPL Mars Space Images - Featured Image\n",
    "image_url = 'https://www.jpl.nasa.gov/spaceimages/?search=&category=Mars'\n",
    "browser.visit(image_url)"
   ]
  },
  {
   "cell_type": "code",
   "execution_count": 8,
   "metadata": {},
   "outputs": [],
   "source": [
    "image_html = browser.html\n",
    "soup = BeautifulSoup(image_html,'html.parser')\n",
    "ul = soup.find('div',class_='carousel_container')\n",
    "images = ul.find_all('div',class_='carousel_items')"
   ]
  },
  {
   "cell_type": "code",
   "execution_count": 9,
   "metadata": {},
   "outputs": [
    {
     "name": "stdout",
     "output_type": "stream",
     "text": [
      "https://www.jpl.nasa.gov/spaceimages/images/wallpaper/PIA18284-1920x1200.jpg\n"
     ]
    }
   ],
   "source": [
    "image = images[0]\n",
    "image_a = image.find('article',class_='carousel_item')\n",
    "image_href = image_a.get('style')\n",
    "clean_href = image_href.split(\"'\")\n",
    "# print(clean_href[1])\n",
    "url_original = 'https://www.jpl.nasa.gov'\n",
    "featured_image_url = url_original + clean_href[1]\n",
    "print(featured_image_url)"
   ]
  },
  {
   "cell_type": "code",
   "execution_count": 10,
   "metadata": {},
   "outputs": [],
   "source": [
    "#Mars weather scraping\n",
    "mars_twitter_url = 'https://twitter.com/marswxreport?lang=en'\n",
    "browser.visit(mars_twitter_url)"
   ]
  },
  {
   "cell_type": "code",
   "execution_count": 11,
   "metadata": {},
   "outputs": [
    {
     "name": "stdout",
     "output_type": "stream",
     "text": [
      "Sol 2299 (2019-01-24), high -5C/23F, low -74C/-101F, pressure at 8.18 hPa, daylight 06:46-18:55pic.twitter.com/UNiNdu3U8t\n"
     ]
    }
   ],
   "source": [
    "html = browser.html\n",
    "soup = BeautifulSoup(html,'html.parser')\n",
    "parent_ol = soup.find('ol',id='stream-items-id')\n",
    "weather_li = parent_ol.find_all('li')\n",
    "latest_weather = weather_li[0]\n",
    "latest_weather_p = latest_weather.find('p')\n",
    "mars_weather = latest_weather_p.text.strip()\n",
    "print(mars_weather)"
   ]
  },
  {
   "cell_type": "code",
   "execution_count": 12,
   "metadata": {},
   "outputs": [
    {
     "data": {
      "text/plain": [
       "[                      0                              1\n",
       " 0  Equatorial Diameter:                       6,792 km\n",
       " 1       Polar Diameter:                       6,752 km\n",
       " 2                 Mass:  6.42 x 10^23 kg (10.7% Earth)\n",
       " 3                Moons:            2 (Phobos & Deimos)\n",
       " 4       Orbit Distance:       227,943,824 km (1.52 AU)\n",
       " 5         Orbit Period:           687 days (1.9 years)\n",
       " 6  Surface Temperature:                  -153 to 20 °C\n",
       " 7         First Record:              2nd millennium BC\n",
       " 8          Recorded By:           Egyptian astronomers]"
      ]
     },
     "execution_count": 12,
     "metadata": {},
     "output_type": "execute_result"
    }
   ],
   "source": [
    "#Mars facts scraping\n",
    "mars_facts_url = 'http://space-facts.com/mars/'\n",
    "facts_table = pd.read_html(mars_facts_url)\n",
    "facts_table"
   ]
  },
  {
   "cell_type": "code",
   "execution_count": 13,
   "metadata": {},
   "outputs": [
    {
     "data": {
      "text/html": [
       "<div>\n",
       "<style scoped>\n",
       "    .dataframe tbody tr th:only-of-type {\n",
       "        vertical-align: middle;\n",
       "    }\n",
       "\n",
       "    .dataframe tbody tr th {\n",
       "        vertical-align: top;\n",
       "    }\n",
       "\n",
       "    .dataframe thead th {\n",
       "        text-align: right;\n",
       "    }\n",
       "</style>\n",
       "<table border=\"1\" class=\"dataframe\">\n",
       "  <thead>\n",
       "    <tr style=\"text-align: right;\">\n",
       "      <th></th>\n",
       "      <th>Facts</th>\n",
       "      <th>Values</th>\n",
       "    </tr>\n",
       "  </thead>\n",
       "  <tbody>\n",
       "    <tr>\n",
       "      <th>0</th>\n",
       "      <td>Equatorial Diameter:</td>\n",
       "      <td>6,792 km</td>\n",
       "    </tr>\n",
       "    <tr>\n",
       "      <th>1</th>\n",
       "      <td>Polar Diameter:</td>\n",
       "      <td>6,752 km</td>\n",
       "    </tr>\n",
       "    <tr>\n",
       "      <th>2</th>\n",
       "      <td>Mass:</td>\n",
       "      <td>6.42 x 10^23 kg (10.7% Earth)</td>\n",
       "    </tr>\n",
       "    <tr>\n",
       "      <th>3</th>\n",
       "      <td>Moons:</td>\n",
       "      <td>2 (Phobos &amp; Deimos)</td>\n",
       "    </tr>\n",
       "    <tr>\n",
       "      <th>4</th>\n",
       "      <td>Orbit Distance:</td>\n",
       "      <td>227,943,824 km (1.52 AU)</td>\n",
       "    </tr>\n",
       "    <tr>\n",
       "      <th>5</th>\n",
       "      <td>Orbit Period:</td>\n",
       "      <td>687 days (1.9 years)</td>\n",
       "    </tr>\n",
       "    <tr>\n",
       "      <th>6</th>\n",
       "      <td>Surface Temperature:</td>\n",
       "      <td>-153 to 20 °C</td>\n",
       "    </tr>\n",
       "    <tr>\n",
       "      <th>7</th>\n",
       "      <td>First Record:</td>\n",
       "      <td>2nd millennium BC</td>\n",
       "    </tr>\n",
       "    <tr>\n",
       "      <th>8</th>\n",
       "      <td>Recorded By:</td>\n",
       "      <td>Egyptian astronomers</td>\n",
       "    </tr>\n",
       "  </tbody>\n",
       "</table>\n",
       "</div>"
      ],
      "text/plain": [
       "                  Facts                         Values\n",
       "0  Equatorial Diameter:                       6,792 km\n",
       "1       Polar Diameter:                       6,752 km\n",
       "2                 Mass:  6.42 x 10^23 kg (10.7% Earth)\n",
       "3                Moons:            2 (Phobos & Deimos)\n",
       "4       Orbit Distance:       227,943,824 km (1.52 AU)\n",
       "5         Orbit Period:           687 days (1.9 years)\n",
       "6  Surface Temperature:                  -153 to 20 °C\n",
       "7         First Record:              2nd millennium BC\n",
       "8          Recorded By:           Egyptian astronomers"
      ]
     },
     "execution_count": 13,
     "metadata": {},
     "output_type": "execute_result"
    }
   ],
   "source": [
    "#convert table to DF, give column header and print\n",
    "mars_facts_df = facts_table[0]\n",
    "mars_facts_df.columns = ['Facts', 'Values']\n",
    "mars_facts_df"
   ]
  },
  {
   "cell_type": "code",
   "execution_count": 14,
   "metadata": {},
   "outputs": [],
   "source": [
    "#Mars Hemisphere\n",
    "hemisphere_url = 'https://www.lpi.usra.edu/education/explore/mars/background/'\n",
    "base_url = \"https://www.lpi.usra.edu/education/explore/mars/background/\"\n",
    "browser.visit(hemisphere_url)"
   ]
  },
  {
   "cell_type": "code",
   "execution_count": 15,
   "metadata": {},
   "outputs": [],
   "source": [
    "html = browser.html\n",
    "soup = BeautifulSoup(html, 'html.parser')"
   ]
  },
  {
   "cell_type": "code",
   "execution_count": 16,
   "metadata": {},
   "outputs": [
    {
     "name": "stdout",
     "output_type": "stream",
     "text": [
      "{'Description': ['Image of dust storm on Mars.', 'Image of Earth, Moon and Mars inner and outer cores.', 'Image of Mars Orbiter Laser Altimeter (MOLA) map showing elevations of the Martian Surface.', 'Image of Mars Orbiter Lase Altimeter (MOLA) maps shows a distinction between lowlands and highlands.', 'Image of Mars surface showing the prominent Valles Marineris.', 'Image of Olympus Mons and volcanoson the Tharsis bulge.'], 'img_url': ['https://www.lpi.usra.edu/education/explore/mars/background/../images/dust_storm.jpg', 'https://www.lpi.usra.edu/education/explore/mars/background/../images/planets_core.jpg', 'https://www.lpi.usra.edu/education/explore/mars/background/../images/martina_surface_elevations.jpg', 'https://www.lpi.usra.edu/education/explore/mars/background/../images/views_mars.jpg', 'https://www.lpi.usra.edu/education/explore/mars/background/../images/mars_valles_marineris.jpg', 'https://www.lpi.usra.edu/education/explore/mars/background/../images/olympus_moons_volcanos.jpg']}\n"
     ]
    }
   ],
   "source": [
    "parent_div = soup.find('div', id = 'main')\n",
    "contents = parent_div.find_all('p', class_=\"center\")\n",
    "contents\n",
    "images = dict.fromkeys(['Description', 'img_url'])\n",
    "images_desc = []\n",
    "images_url = []\n",
    "for content in contents:\n",
    "    img = content.find('img').get('src')\n",
    "    desc = content.find('img').get('alt')\n",
    "    img_url = base_url + img\n",
    "    images_desc.append(desc)\n",
    "    images_url.append(img_url)    \n",
    "#     print(img_url)\n",
    "for elements in images:\n",
    "    images['Description'] = images_desc\n",
    "    for items in images_url:\n",
    "        images['img_url'] = images_url\n",
    "            \n",
    "print(images)\n"
   ]
  }
 ],
 "metadata": {
  "kernelspec": {
   "display_name": "Python 3",
   "language": "python",
   "name": "python3"
  },
  "language_info": {
   "codemirror_mode": {
    "name": "ipython",
    "version": 3
   },
   "file_extension": ".py",
   "mimetype": "text/x-python",
   "name": "python",
   "nbconvert_exporter": "python",
   "pygments_lexer": "ipython3",
   "version": "3.7.0"
  }
 },
 "nbformat": 4,
 "nbformat_minor": 2
}
