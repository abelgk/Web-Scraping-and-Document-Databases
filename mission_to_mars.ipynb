{
 "cells": [
  {
   "cell_type": "code",
   "execution_count": 1,
   "metadata": {},
   "outputs": [],
   "source": [
    "# Dependencies\n",
    "import pymongo\n",
    "from splinter import Browser\n",
    "from splinter.exceptions import ElementDoesNotExist\n",
    "from bs4 import BeautifulSoup\n",
    "import requests\n",
    "import pandas as pd"
   ]
  },
  {
   "cell_type": "code",
   "execution_count": 2,
   "metadata": {},
   "outputs": [],
   "source": [
    "executable_path = {'executable_path': 'chromedriver.exe'}\n",
    "browser = Browser('chrome',**executable_path, headless=False)"
   ]
  },
  {
   "cell_type": "code",
   "execution_count": 3,
   "metadata": {},
   "outputs": [],
   "source": [
    "# URL of page to be scraped\n",
    "url = 'https://mars.nasa.gov/news/'\n",
    "browser.visit(url)\n",
    "html = browser.html\n",
    "\n",
    "# Create BeautifulSoup object; parse with 'html'\n",
    "soup = BeautifulSoup(html, 'html.parser')\n",
    "# soup"
   ]
  },
  {
   "cell_type": "code",
   "execution_count": 4,
   "metadata": {},
   "outputs": [
    {
     "data": {
      "text/plain": [
       "{'title': '\"Mars Buggy\" Curiosity Measures a Mountain\\'s Gravity',\n",
       " 'article': 'Smartphone-like sensors on the NASA rover were used to calculate the density of Mount Sharp, offering new clues to its formation.',\n",
       " 'date': 'January 31, 2019'}"
      ]
     },
     "execution_count": 4,
     "metadata": {},
     "output_type": "execute_result"
    }
   ],
   "source": [
    "latest_news = {}\n",
    "items = soup.find_all('li',class_='slide')\n",
    "item = items[0]\n",
    "\n",
    "div = item.find('div',class_='content_title')\n",
    "link = div.find('a')\n",
    "title = link.text.strip()\n",
    "article = item.find('div', class_='article_teaser_body')\n",
    "date = item.find('div', class_ =\"list_date\").get_text()\n",
    "\n",
    "latest_news[\"title\"] = title\n",
    "latest_news[\"article\"] = article.text.strip()\n",
    "latest_news[\"date\"] = date\n",
    "latest_news"
   ]
  },
  {
   "cell_type": "code",
   "execution_count": 5,
   "metadata": {},
   "outputs": [],
   "source": [
    "# JPL Mars Space Images - Featured Image\n",
    "image_url = 'https://www.jpl.nasa.gov/spaceimages/?search=&category=Mars'\n",
    "browser.visit(image_url)"
   ]
  },
  {
   "cell_type": "code",
   "execution_count": 6,
   "metadata": {},
   "outputs": [],
   "source": [
    "image_html = browser.html\n",
    "soup = BeautifulSoup(image_html,'html.parser')\n",
    "ul = soup.find('div',class_='carousel_container')\n",
    "images = ul.find_all('div',class_='carousel_items')"
   ]
  },
  {
   "cell_type": "code",
   "execution_count": 7,
   "metadata": {},
   "outputs": [
    {
     "name": "stdout",
     "output_type": "stream",
     "text": [
      "https://www.jpl.nasa.gov/spaceimages/images/wallpaper/PIA17172-1920x1200.jpg\n"
     ]
    }
   ],
   "source": [
    "image = images[0]\n",
    "image_a = image.find('article',class_='carousel_item')\n",
    "image_href = image_a.get('style')\n",
    "clean_href = image_href.split(\"'\")\n",
    "# print(clean_href[1])\n",
    "url_original = 'https://www.jpl.nasa.gov'\n",
    "featured_image_url = url_original + clean_href[1]\n",
    "print(featured_image_url)"
   ]
  },
  {
   "cell_type": "code",
   "execution_count": 8,
   "metadata": {},
   "outputs": [],
   "source": [
    "#Mars weather scraping\n",
    "mars_twitter_url = 'https://twitter.com/marswxreport?lang=en'\n",
    "browser.visit(mars_twitter_url)"
   ]
  },
  {
   "cell_type": "code",
   "execution_count": 9,
   "metadata": {},
   "outputs": [
    {
     "name": "stdout",
     "output_type": "stream",
     "text": [
      "Sol 2303 (2019-01-28), high -7C/19F, low -73C/-99F, pressure at 8.15 hPa, daylight 06:47-18:54pic.twitter.com/pQzgxnZgOr\n"
     ]
    }
   ],
   "source": [
    "html = browser.html\n",
    "soup = BeautifulSoup(html,'html.parser')\n",
    "parent_ol = soup.find_all('div', class_='js-tweet-text-container')\n",
    "weather_li = parent_ol[1].find('p', class_=\"TweetTextSize TweetTextSize--normal js-tweet-text tweet-text\")\n",
    "mars_weather = weather_li.text.strip()\n",
    "print(mars_weather)"
   ]
  },
  {
   "cell_type": "code",
   "execution_count": 10,
   "metadata": {},
   "outputs": [
    {
     "data": {
      "text/plain": [
       "[                      0                              1\n",
       " 0  Equatorial Diameter:                       6,792 km\n",
       " 1       Polar Diameter:                       6,752 km\n",
       " 2                 Mass:  6.42 x 10^23 kg (10.7% Earth)\n",
       " 3                Moons:            2 (Phobos & Deimos)\n",
       " 4       Orbit Distance:       227,943,824 km (1.52 AU)\n",
       " 5         Orbit Period:           687 days (1.9 years)\n",
       " 6  Surface Temperature:                  -153 to 20 °C\n",
       " 7         First Record:              2nd millennium BC\n",
       " 8          Recorded By:           Egyptian astronomers]"
      ]
     },
     "execution_count": 10,
     "metadata": {},
     "output_type": "execute_result"
    }
   ],
   "source": [
    "#Mars facts scraping\n",
    "mars_facts_url = 'http://space-facts.com/mars/'\n",
    "facts_table = pd.read_html(mars_facts_url)\n",
    "facts_table"
   ]
  },
  {
   "cell_type": "code",
   "execution_count": 11,
   "metadata": {},
   "outputs": [
    {
     "data": {
      "text/html": [
       "<div>\n",
       "<style scoped>\n",
       "    .dataframe tbody tr th:only-of-type {\n",
       "        vertical-align: middle;\n",
       "    }\n",
       "\n",
       "    .dataframe tbody tr th {\n",
       "        vertical-align: top;\n",
       "    }\n",
       "\n",
       "    .dataframe thead th {\n",
       "        text-align: right;\n",
       "    }\n",
       "</style>\n",
       "<table border=\"1\" class=\"dataframe\">\n",
       "  <thead>\n",
       "    <tr style=\"text-align: right;\">\n",
       "      <th></th>\n",
       "      <th>Facts</th>\n",
       "      <th>Values</th>\n",
       "    </tr>\n",
       "  </thead>\n",
       "  <tbody>\n",
       "    <tr>\n",
       "      <th>0</th>\n",
       "      <td>Equatorial Diameter:</td>\n",
       "      <td>6,792 km</td>\n",
       "    </tr>\n",
       "    <tr>\n",
       "      <th>1</th>\n",
       "      <td>Polar Diameter:</td>\n",
       "      <td>6,752 km</td>\n",
       "    </tr>\n",
       "    <tr>\n",
       "      <th>2</th>\n",
       "      <td>Mass:</td>\n",
       "      <td>6.42 x 10^23 kg (10.7% Earth)</td>\n",
       "    </tr>\n",
       "    <tr>\n",
       "      <th>3</th>\n",
       "      <td>Moons:</td>\n",
       "      <td>2 (Phobos &amp; Deimos)</td>\n",
       "    </tr>\n",
       "    <tr>\n",
       "      <th>4</th>\n",
       "      <td>Orbit Distance:</td>\n",
       "      <td>227,943,824 km (1.52 AU)</td>\n",
       "    </tr>\n",
       "    <tr>\n",
       "      <th>5</th>\n",
       "      <td>Orbit Period:</td>\n",
       "      <td>687 days (1.9 years)</td>\n",
       "    </tr>\n",
       "    <tr>\n",
       "      <th>6</th>\n",
       "      <td>Surface Temperature:</td>\n",
       "      <td>-153 to 20 °C</td>\n",
       "    </tr>\n",
       "    <tr>\n",
       "      <th>7</th>\n",
       "      <td>First Record:</td>\n",
       "      <td>2nd millennium BC</td>\n",
       "    </tr>\n",
       "    <tr>\n",
       "      <th>8</th>\n",
       "      <td>Recorded By:</td>\n",
       "      <td>Egyptian astronomers</td>\n",
       "    </tr>\n",
       "  </tbody>\n",
       "</table>\n",
       "</div>"
      ],
      "text/plain": [
       "                  Facts                         Values\n",
       "0  Equatorial Diameter:                       6,792 km\n",
       "1       Polar Diameter:                       6,752 km\n",
       "2                 Mass:  6.42 x 10^23 kg (10.7% Earth)\n",
       "3                Moons:            2 (Phobos & Deimos)\n",
       "4       Orbit Distance:       227,943,824 km (1.52 AU)\n",
       "5         Orbit Period:           687 days (1.9 years)\n",
       "6  Surface Temperature:                  -153 to 20 °C\n",
       "7         First Record:              2nd millennium BC\n",
       "8          Recorded By:           Egyptian astronomers"
      ]
     },
     "execution_count": 11,
     "metadata": {},
     "output_type": "execute_result"
    }
   ],
   "source": [
    "#convert table to DF, give column header and print\n",
    "mars_facts_df = facts_table[0]\n",
    "mars_facts_df.columns = ['Facts', 'Values']\n",
    "mars_facts_df"
   ]
  },
  {
   "cell_type": "code",
   "execution_count": 12,
   "metadata": {},
   "outputs": [],
   "source": [
    "#Mars Hemisphere\n",
    "hemisphere_url = 'https://www.lpi.usra.edu/education/explore/mars/background/'\n",
    "base_url = \"https://www.lpi.usra.edu/education/explore/mars/background/\"\n",
    "browser.visit(hemisphere_url)"
   ]
  },
  {
   "cell_type": "code",
   "execution_count": 13,
   "metadata": {},
   "outputs": [],
   "source": [
    "html = browser.html\n",
    "soup = BeautifulSoup(html, 'html.parser')"
   ]
  },
  {
   "cell_type": "code",
   "execution_count": 20,
   "metadata": {},
   "outputs": [
    {
     "name": "stdout",
     "output_type": "stream",
     "text": [
      "[{'Description': 'Image of dust storm on Mars.', 'img_url': 'https://www.lpi.usra.edu/education/explore/mars/background/../images/dust_storm.jpg'}, {'Description': 'Image of Earth, Moon and Mars inner and outer cores.', 'img_url': 'https://www.lpi.usra.edu/education/explore/mars/background/../images/planets_core.jpg'}, {'Description': 'Image of Mars Orbiter Laser Altimeter (MOLA) map showing elevations of the Martian Surface.', 'img_url': 'https://www.lpi.usra.edu/education/explore/mars/background/../images/martina_surface_elevations.jpg'}, {'Description': 'Image of Mars Orbiter Lase Altimeter (MOLA) maps shows a distinction between lowlands and highlands.', 'img_url': 'https://www.lpi.usra.edu/education/explore/mars/background/../images/views_mars.jpg'}, {'Description': 'Image of Mars surface showing the prominent Valles Marineris.', 'img_url': 'https://www.lpi.usra.edu/education/explore/mars/background/../images/mars_valles_marineris.jpg'}, {'Description': 'Image of Olympus Mons and volcanoson the Tharsis bulge.', 'img_url': 'https://www.lpi.usra.edu/education/explore/mars/background/../images/olympus_moons_volcanos.jpg'}]\n"
     ]
    }
   ],
   "source": [
    "parent_div = soup.find('div', id = 'main')\n",
    "contents = parent_div.find_all('p', class_=\"center\")\n",
    "images = []\n",
    "images_desc = {}\n",
    "images_url = {}\n",
    "for content in contents:\n",
    "    img = content.find('img').get('src')\n",
    "    desc = content.find('img').get('alt')\n",
    "    img_url = base_url + img\n",
    "    images.append({\"Description\" : desc, \"img_url\" : img_url})\n",
    "#     images_url.append(img_url)    \n",
    "# for elements in images:\n",
    "#     images['Description'] = images_desc\n",
    "#     images['img_url'] = images_url\n",
    "            \n",
    "print(images)\n"
   ]
  },
  {
   "cell_type": "code",
   "execution_count": null,
   "metadata": {},
   "outputs": [],
   "source": []
  }
 ],
 "metadata": {
  "kernelspec": {
   "display_name": "Python 3",
   "language": "python",
   "name": "python3"
  },
  "language_info": {
   "codemirror_mode": {
    "name": "ipython",
    "version": 3
   },
   "file_extension": ".py",
   "mimetype": "text/x-python",
   "name": "python",
   "nbconvert_exporter": "python",
   "pygments_lexer": "ipython3",
   "version": "3.7.0"
  }
 },
 "nbformat": 4,
 "nbformat_minor": 2
}
